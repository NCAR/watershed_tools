{
 "cells": [
  {
   "cell_type": "markdown",
   "metadata": {},
   "source": [
    "### Prepare soiltype input for discretization ###\n",
    "Prepare soiltype input data for the basin area. This step includes:<br>\n",
    "1. project full-domain soiltype raster into a specified projection system\n",
    "2. extract soiltype input for the basin area\n",
    "3. check basin soiltype"
   ]
  },
  {
   "cell_type": "code",
   "execution_count": 1,
   "metadata": {},
   "outputs": [],
   "source": [
    "# import libraries\n",
    "import os,sys\n",
    "sys.path.append('../')\n",
    "import functions.geospatial_analysis as ga\n",
    "import functions.geospatial_plot as gp\n",
    "import functions.utils as ut\n",
    "import rasterio as rio\n",
    "from rasterio.warp import Resampling"
   ]
  },
  {
   "cell_type": "code",
   "execution_count": 2,
   "metadata": {},
   "outputs": [],
   "source": [
    "# common paths\n",
    "control_file    = '/Users/drc858/GitHub/watershed_tools/test_cases/tuolumne/control_tuolumne.txt'\n",
    "basin_data_path = ut.read_from_control(control_file, 'basin_data_path')\n",
    "basin_name      = ut.read_from_control(control_file, 'basin_name')\n",
    "plot_path       = os.path.join(basin_data_path, 'plots/')"
   ]
  },
  {
   "cell_type": "code",
   "execution_count": 3,
   "metadata": {},
   "outputs": [],
   "source": [
    "# define equal area projection system\n",
    "new_epsg = ut.read_from_control(control_file, 'epsg') \n",
    "dest_crs = rio.crs.CRS.from_epsg(new_epsg)"
   ]
  },
  {
   "cell_type": "code",
   "execution_count": 4,
   "metadata": {},
   "outputs": [],
   "source": [
    "# full-domain data\n",
    "soiltype_raster       = ut.read_from_control(control_file, 'fulldom_soiltype_raster')\n",
    "\n",
    "# basin data\n",
    "basin_gru_shp         = ut.set_filename(control_file, 'basin_gru_shp')\n",
    "basin_flowline_shp    = ut.set_filename(control_file, 'basin_flowlines_shp')\n",
    "basin_soiltype_raster = ut.set_filename(control_file, 'basin_soiltype_raster')\n",
    "\n",
    "# derived filenames\n",
    "basin_gru_prj_shp     = basin_gru_shp.split('.shp')[0]+'_prj.shp'\n",
    "soiltype_prj_raster   = soiltype_raster.split('.tif')[0]+'_prj.tif'"
   ]
  },
  {
   "cell_type": "markdown",
   "metadata": {},
   "source": [
    "#### 1. Reproject full-domain soiltype #### "
   ]
  },
  {
   "cell_type": "code",
   "execution_count": 8,
   "metadata": {},
   "outputs": [
    {
     "name": "stdout",
     "output_type": "stream",
     "text": [
      "reprojected soiltype raster: /Users/drc858/Data/GISData/soilgrids/usda_mode_soilclass_250m_ll_prj.tif\n"
     ]
    }
   ],
   "source": [
    "# if this is slow, the file can be prepared externally using gdalwarp -t_srs EPSG:<epsg> <input_tif> <output_tif>\n",
    "# (issue: the reprojected filesize may balloons by a factor of 200 due to substandard compression)\n",
    "if not os.path.exists(soiltype_prj_raster):\n",
    "    ga.reproject_raster(soiltype_raster, soiltype_prj_raster, dest_crs, Resampling.nearest)    \n",
    "print('reprojected soiltype raster:', soiltype_prj_raster)"
   ]
  },
  {
   "cell_type": "markdown",
   "metadata": {},
   "source": [
    "#### 2. Extract basin soiltype ####"
   ]
  },
  {
   "cell_type": "code",
   "execution_count": 9,
   "metadata": {},
   "outputs": [
    {
     "name": "stdout",
     "output_type": "stream",
     "text": [
      "cropped basin soiltype raster: /Users/drc858/GitHub/watershed_tools/test_cases/tuolumne/gis/soiltype.tif\n"
     ]
    }
   ],
   "source": [
    "if not os.path.exists(basin_soiltype_raster):\n",
    "    ga.crop_raster(soiltype_prj_raster, basin_gru_prj_shp, basin_soiltype_raster) \n",
    "print('cropped basin soiltype raster:', basin_soiltype_raster)"
   ]
  },
  {
   "cell_type": "markdown",
   "metadata": {},
   "source": [
    "#### 3. Check domain soil ####"
   ]
  },
  {
   "cell_type": "code",
   "execution_count": 10,
   "metadata": {},
   "outputs": [
    {
     "name": "stdout",
     "output_type": "stream",
     "text": [
      "data_unique: [0.]\n",
      "data_counts: [68155]\n"
     ]
    },
    {
     "ename": "ValueError",
     "evalue": "You must provide at least 2 boundaries (1 region) but you passed in array([0.], dtype=float32)",
     "output_type": "error",
     "traceback": [
      "\u001b[0;31m---------------------------------------------------------------------------\u001b[0m",
      "\u001b[0;31mValueError\u001b[0m                                Traceback (most recent call last)",
      "Cell \u001b[0;32mIn[10], line 28\u001b[0m\n\u001b[1;32m     25\u001b[0m output_fig_file \u001b[38;5;241m=\u001b[39m os\u001b[38;5;241m.\u001b[39mpath\u001b[38;5;241m.\u001b[39mjoin(plot_path, \u001b[38;5;124m'\u001b[39m\u001b[38;5;124msoiltype_and_bound_stream.png\u001b[39m\u001b[38;5;124m'\u001b[39m)   \n\u001b[1;32m     26\u001b[0m cmap_str \u001b[38;5;241m=\u001b[39m \u001b[38;5;124m'\u001b[39m\u001b[38;5;124mjet\u001b[39m\u001b[38;5;124m'\u001b[39m\n\u001b[0;32m---> 28\u001b[0m \u001b[43mgp\u001b[49m\u001b[38;5;241;43m.\u001b[39;49m\u001b[43mplot_raster_and_bound_stream\u001b[49m\u001b[43m(\u001b[49m\u001b[43mbasin_soiltype_raster\u001b[49m\u001b[43m,\u001b[49m\u001b[43m \u001b[49m\u001b[43mbasin_gru_prj_shp\u001b[49m\u001b[43m,\u001b[49m\u001b[43m \u001b[49m\u001b[43mbasin_flowline_shp\u001b[49m\u001b[43m,\u001b[49m\u001b[43m \u001b[49m\u001b[43mwgs_epsg\u001b[49m\u001b[43m,\u001b[49m\u001b[43m \u001b[49m\u001b[43mcmap_str\u001b[49m\u001b[43m,\u001b[49m\u001b[43m \u001b[49m\u001b[43mlegend_dict\u001b[49m\u001b[43m,\u001b[49m\n\u001b[1;32m     29\u001b[0m \u001b[43m                                \u001b[49m\u001b[43mfigsize\u001b[49m\u001b[43m,\u001b[49m\u001b[43m \u001b[49m\u001b[43mtitle\u001b[49m\u001b[43m,\u001b[49m\u001b[43m \u001b[49m\u001b[43mleg_loc\u001b[49m\u001b[43m,\u001b[49m\u001b[43m \u001b[49m\u001b[43mleg_bbox_to_anchor\u001b[49m\u001b[43m,\u001b[49m\u001b[43m \u001b[49m\u001b[43mleg_ncol\u001b[49m\u001b[43m,\u001b[49m\u001b[43m \u001b[49m\u001b[43moutput_fig_file\u001b[49m\u001b[43m)\u001b[49m\n",
      "File \u001b[0;32m~/GitHub/watershed_tools/data_prep/../functions/geospatial_plot.py:415\u001b[0m, in \u001b[0;36mplot_raster_and_bound_stream\u001b[0;34m(inraster, gru_shp, stream_shp, wgs_crs, cmap_str, input_dict, figsize, title, leg_loc, leg_bbox_to_anchor, leg_ncol, ofile)\u001b[0m\n\u001b[1;32m    412\u001b[0m \u001b[38;5;28mprint\u001b[39m(\u001b[38;5;124m'\u001b[39m\u001b[38;5;124mdata_counts:\u001b[39m\u001b[38;5;124m'\u001b[39m, data_counts)\n\u001b[1;32m    414\u001b[0m \u001b[38;5;66;03m# Define a normalization from values -> colors. Assign each color to a bin.\u001b[39;00m\n\u001b[0;32m--> 415\u001b[0m norm \u001b[38;5;241m=\u001b[39m \u001b[43mmpl\u001b[49m\u001b[38;5;241;43m.\u001b[39;49m\u001b[43mcolors\u001b[49m\u001b[38;5;241;43m.\u001b[39;49m\u001b[43mBoundaryNorm\u001b[49m\u001b[43m(\u001b[49m\u001b[43mdata_unique\u001b[49m\u001b[43m,\u001b[49m\u001b[43m \u001b[49m\u001b[38;5;28;43mlen\u001b[39;49m\u001b[43m(\u001b[49m\u001b[43mdata_unique\u001b[49m\u001b[43m)\u001b[49m\u001b[43m)\u001b[49m\n\u001b[1;32m    417\u001b[0m \u001b[38;5;66;03m# 3. create colormap, norm and legend (two options)\u001b[39;00m\n\u001b[1;32m    418\u001b[0m \u001b[38;5;66;03m# method 1. use user-specified cmap\u001b[39;00m\n\u001b[1;32m    419\u001b[0m \u001b[38;5;28;01mif\u001b[39;00m cmap_str \u001b[38;5;241m!=\u001b[39m \u001b[38;5;124m'\u001b[39m\u001b[38;5;124muser\u001b[39m\u001b[38;5;124m'\u001b[39m:\n",
      "File \u001b[0;32m~/.pyenv/versions/3.9.16/envs/watershed_tools/lib/python3.9/site-packages/matplotlib/colors.py:1976\u001b[0m, in \u001b[0;36mBoundaryNorm.__init__\u001b[0;34m(self, boundaries, ncolors, clip, extend)\u001b[0m\n\u001b[1;32m   1974\u001b[0m \u001b[38;5;28mself\u001b[39m\u001b[38;5;241m.\u001b[39mN \u001b[38;5;241m=\u001b[39m \u001b[38;5;28mlen\u001b[39m(\u001b[38;5;28mself\u001b[39m\u001b[38;5;241m.\u001b[39mboundaries)\n\u001b[1;32m   1975\u001b[0m \u001b[38;5;28;01mif\u001b[39;00m \u001b[38;5;28mself\u001b[39m\u001b[38;5;241m.\u001b[39mN \u001b[38;5;241m<\u001b[39m \u001b[38;5;241m2\u001b[39m:\n\u001b[0;32m-> 1976\u001b[0m     \u001b[38;5;28;01mraise\u001b[39;00m \u001b[38;5;167;01mValueError\u001b[39;00m(\u001b[38;5;124m\"\u001b[39m\u001b[38;5;124mYou must provide at least 2 boundaries \u001b[39m\u001b[38;5;124m\"\u001b[39m\n\u001b[1;32m   1977\u001b[0m                      \u001b[38;5;124mf\u001b[39m\u001b[38;5;124m\"\u001b[39m\u001b[38;5;124m(1 region) but you passed in \u001b[39m\u001b[38;5;132;01m{\u001b[39;00mboundaries\u001b[38;5;132;01m!r}\u001b[39;00m\u001b[38;5;124m\"\u001b[39m)\n\u001b[1;32m   1978\u001b[0m \u001b[38;5;28mself\u001b[39m\u001b[38;5;241m.\u001b[39mNcmap \u001b[38;5;241m=\u001b[39m ncolors\n\u001b[1;32m   1979\u001b[0m \u001b[38;5;28mself\u001b[39m\u001b[38;5;241m.\u001b[39mextend \u001b[38;5;241m=\u001b[39m extend\n",
      "\u001b[0;31mValueError\u001b[0m: You must provide at least 2 boundaries (1 region) but you passed in array([0.], dtype=float32)"
     ]
    }
   ],
   "source": [
    "# plot settings\n",
    "wgs_crs  = 'epsg:4326'\n",
    "wgs_epsg = 4326\n",
    "figsize  = (15,15*0.6) # width, height in inches\n",
    "title    = basin_name.capitalize() + ' soil class'\n",
    "leg_ncol = 2\n",
    "leg_loc  = 'upper center'\n",
    "leg_bbox_to_anchor=(0.5,-0.15)\n",
    "\n",
    "legend_dict = {0: \"NoData\",\n",
    "               1: 'CLAY',\n",
    "               2: 'CLAY LOAM',\n",
    "               3: 'LOAM',\n",
    "               4: 'LOAMY SAND',\n",
    "               5: 'SAND',\n",
    "               6: 'SANDY CLAY',\n",
    "               7: 'SANDY CLAY LOAM',\n",
    "               8: 'SANDY LOAM',\n",
    "               9: 'SILT',\n",
    "               10: 'SILTY CLAY',\n",
    "               11: 'SILTY CLAY LOAM',\n",
    "               12: 'SILT LOAM'}   \n",
    "\n",
    "# plot classified aspect\n",
    "output_fig_file = os.path.join(plot_path, 'soiltype_and_bound_stream.png')   \n",
    "cmap_str = 'jet'\n",
    "\n",
    "gp.plot_raster_and_bound_stream(basin_soiltype_raster, basin_gru_prj_shp, basin_flowline_shp, wgs_epsg, cmap_str, legend_dict,\n",
    "                                figsize, title, leg_loc, leg_bbox_to_anchor, leg_ncol, output_fig_file)"
   ]
  },
  {
   "cell_type": "code",
   "execution_count": null,
   "metadata": {},
   "outputs": [],
   "source": []
  }
 ],
 "metadata": {
  "kernelspec": {
   "display_name": "Python 3 (ipykernel)",
   "language": "python",
   "name": "python3"
  },
  "language_info": {
   "codemirror_mode": {
    "name": "ipython",
    "version": 3
   },
   "file_extension": ".py",
   "mimetype": "text/x-python",
   "name": "python",
   "nbconvert_exporter": "python",
   "pygments_lexer": "ipython3",
   "version": "3.9.16"
  }
 },
 "nbformat": 4,
 "nbformat_minor": 4
}
