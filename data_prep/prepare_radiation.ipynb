{
 "cells": [
  {
   "cell_type": "markdown",
   "metadata": {},
   "source": [
    "### Prepare radiation input for discretization ####\n",
    "Calculate average daily radiation over the snow-melting period. This step includes:\n",
    "1. calculate daily radiation based on dem, slope, aspect and the day of year (DOY). One output per DOY.\n",
    "2. calculate the period mean daily radiation.\n",
    "3. check the correctness of radiation.<br>\n",
    "\n",
    "Note that it is better to run this code on high-performance computers because the 1st step is time-and-memory comsuming."
   ]
  },
  {
   "cell_type": "code",
   "execution_count": 1,
   "metadata": {},
   "outputs": [],
   "source": [
    "# import libraries\n",
    "import os, shutil, sys\n",
    "sys.path.append('../')\n",
    "import functions.utils as ut\n",
    "import geopandas as gpd\n",
    "import rasterio as rio\n",
    "import numpy as np\n",
    "from tqdm import tqdm\n",
    "import matplotlib.pyplot as plt \n",
    "from mpl_toolkits.axes_grid1 import make_axes_locatable\n",
    "%matplotlib inline"
   ]
  },
  {
   "cell_type": "code",
   "execution_count": 2,
   "metadata": {},
   "outputs": [],
   "source": [
    "# common paths\n",
    "control_file    = '/Users/drc858/GitHub/watershed_tools/test_cases/tuolumne/control_tuolumne.txt'\n",
    "basin_data_path = ut.read_from_control(control_file, 'basin_data_path')\n",
    "basin_name      = ut.read_from_control(control_file, 'basin_name')\n",
    "main_path       = ut.read_from_control(control_file, 'main_path')\n",
    "tmpfile_path    = ut.read_from_control(control_file, 'tmpfile_path')\n",
    "if not os.path.exists(tmpfile_path):\n",
    "    os.makedirs(tmpfile_path)"
   ]
  },
  {
   "cell_type": "code",
   "execution_count": 3,
   "metadata": {},
   "outputs": [],
   "source": [
    "# define equal area projection system\n",
    "new_epsg = ut.read_from_control(control_file, 'epsg') \n",
    "dest_crs = rio.crs.CRS.from_epsg(new_epsg)"
   ]
  },
  {
   "cell_type": "code",
   "execution_count": 4,
   "metadata": {},
   "outputs": [],
   "source": [
    "# basin datafiles\n",
    "basin_gru_shp          = ut.set_filename(control_file, 'basin_gru_shp') \n",
    "basin_flowlines_shp    = ut.set_filename(control_file, 'basin_flowlines_shp')\n",
    "basin_dem_raster       = ut.set_filename(control_file, 'basin_dem_raster')  \n",
    "basin_slope_raster     = ut.set_filename(control_file, 'basin_slope_raster')  \n",
    "basin_aspect_raster    = ut.set_filename(control_file, 'basin_aspect_raster')\n",
    "basin_radiation_raster = ut.set_filename(control_file, 'basin_radiation_raster')\n",
    "\n",
    "# drived files\n",
    "basin_gru_prj_shp      = basin_gru_shp.split('.shp')[0]+'_prj.shp' "
   ]
  },
  {
   "cell_type": "markdown",
   "metadata": {},
   "source": [
    "#### Define radiation calcultion configurations ####"
   ]
  },
  {
   "cell_type": "code",
   "execution_count": 5,
   "metadata": {},
   "outputs": [],
   "source": [
    "# path to store daily radiation. One output per DOY. \n",
    "srad_output_dir = os.path.join(basin_data_path, 'radiation_doy/')\n",
    "if not os.path.exists(srad_output_dir):\n",
    "    os.makedirs(srad_output_dir)\n",
    "    \n",
    "# path to store job submission files.    \n",
    "command_dir = os.path.join(basin_data_path, 'radiation_doy_commands/')\n",
    "if os.path.exists(command_dir):\n",
    "    shutil.rmtree(command_dir) \n",
    "os.makedirs(command_dir)"
   ]
  },
  {
   "cell_type": "code",
   "execution_count": 6,
   "metadata": {},
   "outputs": [],
   "source": [
    "# code to calculate daily radiation. Copy this code to the command folder for use later.\n",
    "# This calculation code is based on the reference:Allen, R.G., Trezza, R. and Tasumi, M., 2006. \n",
    "# Analytical integrated functions for daily solar radiation on slopes. Agricultural and Forest Meteorology, 139(1-2), pp.55-73.\n",
    "script_file = os.path.join(main_path, 'functions/calculate_radiation.py')"
   ]
  },
  {
   "cell_type": "markdown",
   "metadata": {},
   "source": [
    "#### 1. Calculate daily radiation over a evaluation period ####\n",
    "If user runs this on a local machine, daily radiation is calculated day-by-day. Therefore, the entire process may take a long time depending on the doamin size and period length. In contrast, if user runs this on a high-performance cluster, daily radiaiton is calculated via jobs, and all jobs can be run simutanously, which saves time."
   ]
  },
  {
   "cell_type": "code",
   "execution_count": 7,
   "metadata": {},
   "outputs": [
    {
     "name": "stderr",
     "output_type": "stream",
     "text": [
      "100%|█████████████████████████████████████████| 14/14 [00:00<00:00, 3491.30it/s]\n"
     ]
    }
   ],
   "source": [
    "# create job submission files for radiation calculation\n",
    "\n",
    "# first set radiation calculation period\n",
    "solrad_start_DOY = ut.read_from_control(control_file, 'solrad_start_DOY') \n",
    "solrad_end_DOY   = ut.read_from_control(control_file, 'solrad_end_DOY') \n",
    "ndays            = int(solrad_end_DOY) - int(solrad_start_DOY) + 1   # number of days in radiation calculation period\n",
    "\n",
    "# calculate 1 radiation estimate per week in period\n",
    "for i in tqdm(np.arange(0,ndays+4,7)):\n",
    "    DOY = int(solrad_start_DOY) + i\n",
    "    command_filename = os.path.join(command_dir,'qsub_DOY'+str(DOY)+'.sh')\n",
    "    if os.path.exists(command_filename):\n",
    "        os.remove(command_filename)\n",
    "\n",
    "    # ------------------------------------------------------------------\n",
    "    # cluster submission settings: [cheyenne]\n",
    "    with open(command_filename,'w') as f:\n",
    "        f.write('#!/bin/tcsh\\n')\n",
    "        f.write('#PBS -N SwDOY'+str(DOY)+'\\n')\n",
    "        f.write('#PBS -A P48500028\\n')\n",
    "        f.write('#PBS -q regular\\n')\n",
    "        f.write('#PBS -l walltime=00:15:00\\n')\n",
    "        f.write('#PBS -l select=1:ncpus=1:mpiprocs=1\\n') \n",
    "        f.write('#PBS -o /glade/scratch/andywood/temp/SwDOY'+str(DOY)+'.out\\n')\n",
    "        f.write('#PBS -e /glade/scratch/andywood/temp/SwDOY'+str(DOY)+'.err\\n\\n')\n",
    "        \n",
    "        f.write('setenv TMPDIR /glade/scratch/andywood/temp/\\n')\n",
    "        f.write('mkdir -p $TMPDIR\\n\\n')         \n",
    "        \n",
    "        #f.write('module load peak_memusage\\n\\n') # monitor peak memory usage   \n",
    "        # Note: cheyenne usable memory per compute node is ~45GB.\n",
    "        \n",
    "        # load python environment\n",
    "        f.write('source /etc/profile.d/modules.csh\\n')\n",
    "        f.write('module reset\\n')\n",
    "        f.write('module load python/3.6.8\\n')\n",
    "        f.write('source /glade/u/apps/opt/ncar_pylib/ncar_pylib.csh\\n\\n')\n",
    "\n",
    "        # To put both single quotes and double quotes inside of a string, wrap the string in triple quotes.\n",
    "        #f.write(\"\"\"peak_memusage.exe %s %s %s %s %s %s %d %s\\n\"\"\"%\\\n",
    "        f.write(\"%s %s %s %s %s %s %d %s\\n\" % \n",
    "                ('python',\n",
    "                 script_file, basin_dem_raster, basin_slope_raster, basin_aspect_raster,\n",
    "                 str(DOY), int(new_epsg), srad_output_dir))                "
   ]
  },
  {
   "cell_type": "code",
   "execution_count": 8,
   "metadata": {},
   "outputs": [
    {
     "name": "stderr",
     "output_type": "stream",
     "text": [
      "  0%|                                                    | 0/14 [00:00<?, ?it/s]sh: qsub: command not found\n",
      "sh: qsub: command not found\n",
      "sh: qsub: command not found\n",
      "sh: qsub: command not found\n",
      "sh: qsub: command not found\n",
      "sh: qsub: command not found\n",
      "sh: qsub: command not found\n",
      "sh: qsub: command not found\n",
      "sh: qsub: command not found\n",
      "sh: qsub: command not found\n",
      "sh: qsub: command not found\n",
      "sh: qsub: command not found\n",
      "sh: qsub: command not found\n",
      " 93%|███████████████████████████████████████   | 13/14 [00:00<00:00, 124.81it/s]sh: qsub: command not found\n",
      "100%|██████████████████████████████████████████| 14/14 [00:00<00:00, 125.56it/s]\n"
     ]
    }
   ],
   "source": [
    "# submit jobs, one per day in range (or run consecutively)\n",
    "# for large domains (more than a few square degrees, submission is likely faster; otherwise sequential may be fine)\n",
    "\n",
    "for i in tqdm(np.arange(0,ndays+4,7)):\n",
    "    DOY = int(solrad_start_DOY) + i\n",
    "    command_filename = os.path.join(command_dir,'qsub_DOY'+str(DOY)+'.sh')\n",
    "    \n",
    "    os.system('qsub ' + command_filename)  # run on cluster   (uncomment to run ... need to add check on existing files so that this isn't kicked off if the outputs exist already)\n",
    "    # os.system('./'+command_file)         # alternatively, run sequentially on a local machine"
   ]
  },
  {
   "cell_type": "markdown",
   "metadata": {},
   "source": [
    "#### 2. Calculate average daily radiation ####"
   ]
  },
  {
   "cell_type": "code",
   "execution_count": 9,
   "metadata": {},
   "outputs": [
    {
     "ename": "RasterioIOError",
     "evalue": "/Users/drc858/GitHub/watershed_tools/test_cases/tuolumne/radiation_doy/sw_DOY75.tif: No such file or directory",
     "output_type": "error",
     "traceback": [
      "\u001b[0;31m---------------------------------------------------------------------------\u001b[0m",
      "\u001b[0;31mCPLE_OpenFailedError\u001b[0m                      Traceback (most recent call last)",
      "File \u001b[0;32mrasterio/_base.pyx:308\u001b[0m, in \u001b[0;36mrasterio._base.DatasetBase.__init__\u001b[0;34m()\u001b[0m\n",
      "File \u001b[0;32mrasterio/_base.pyx:219\u001b[0m, in \u001b[0;36mrasterio._base.open_dataset\u001b[0;34m()\u001b[0m\n",
      "File \u001b[0;32mrasterio/_err.pyx:221\u001b[0m, in \u001b[0;36mrasterio._err.exc_wrap_pointer\u001b[0;34m()\u001b[0m\n",
      "\u001b[0;31mCPLE_OpenFailedError\u001b[0m: /Users/drc858/GitHub/watershed_tools/test_cases/tuolumne/radiation_doy/sw_DOY75.tif: No such file or directory",
      "\nDuring handling of the above exception, another exception occurred:\n",
      "\u001b[0;31mRasterioIOError\u001b[0m                           Traceback (most recent call last)",
      "Cell \u001b[0;32mIn[9], line 8\u001b[0m\n\u001b[1;32m      5\u001b[0m sw_DOY_raster \u001b[38;5;241m=\u001b[39m os\u001b[38;5;241m.\u001b[39mpath\u001b[38;5;241m.\u001b[39mjoin(srad_output_dir,\u001b[38;5;124m'\u001b[39m\u001b[38;5;124msw_DOY\u001b[39m\u001b[38;5;124m'\u001b[39m\u001b[38;5;241m+\u001b[39m\u001b[38;5;28mstr\u001b[39m(DOY)\u001b[38;5;241m+\u001b[39m\u001b[38;5;124m'\u001b[39m\u001b[38;5;124m.tif\u001b[39m\u001b[38;5;124m'\u001b[39m)\n\u001b[1;32m      7\u001b[0m \u001b[38;5;66;03m# read DOY radiation \u001b[39;00m\n\u001b[0;32m----> 8\u001b[0m \u001b[38;5;28;01mwith\u001b[39;00m \u001b[43mrio\u001b[49m\u001b[38;5;241;43m.\u001b[39;49m\u001b[43mopen\u001b[49m\u001b[43m(\u001b[49m\u001b[43msw_DOY_raster\u001b[49m\u001b[43m)\u001b[49m \u001b[38;5;28;01mas\u001b[39;00m ff:\n\u001b[1;32m      9\u001b[0m     sw         \u001b[38;5;241m=\u001b[39m ff\u001b[38;5;241m.\u001b[39mread(\u001b[38;5;241m1\u001b[39m)\n\u001b[1;32m     10\u001b[0m     mask       \u001b[38;5;241m=\u001b[39m ff\u001b[38;5;241m.\u001b[39mread_masks(\u001b[38;5;241m1\u001b[39m)\n",
      "File \u001b[0;32m~/.pyenv/versions/3.9.16/envs/watershed_tools/lib/python3.9/site-packages/rasterio/env.py:451\u001b[0m, in \u001b[0;36mensure_env_with_credentials.<locals>.wrapper\u001b[0;34m(*args, **kwds)\u001b[0m\n\u001b[1;32m    448\u001b[0m     session \u001b[38;5;241m=\u001b[39m DummySession()\n\u001b[1;32m    450\u001b[0m \u001b[38;5;28;01mwith\u001b[39;00m env_ctor(session\u001b[38;5;241m=\u001b[39msession):\n\u001b[0;32m--> 451\u001b[0m     \u001b[38;5;28;01mreturn\u001b[39;00m \u001b[43mf\u001b[49m\u001b[43m(\u001b[49m\u001b[38;5;241;43m*\u001b[39;49m\u001b[43margs\u001b[49m\u001b[43m,\u001b[49m\u001b[43m \u001b[49m\u001b[38;5;241;43m*\u001b[39;49m\u001b[38;5;241;43m*\u001b[39;49m\u001b[43mkwds\u001b[49m\u001b[43m)\u001b[49m\n",
      "File \u001b[0;32m~/.pyenv/versions/3.9.16/envs/watershed_tools/lib/python3.9/site-packages/rasterio/__init__.py:304\u001b[0m, in \u001b[0;36mopen\u001b[0;34m(fp, mode, driver, width, height, count, crs, transform, dtype, nodata, sharing, **kwargs)\u001b[0m\n\u001b[1;32m    301\u001b[0m path \u001b[38;5;241m=\u001b[39m _parse_path(raw_dataset_path)\n\u001b[1;32m    303\u001b[0m \u001b[38;5;28;01mif\u001b[39;00m mode \u001b[38;5;241m==\u001b[39m \u001b[38;5;124m\"\u001b[39m\u001b[38;5;124mr\u001b[39m\u001b[38;5;124m\"\u001b[39m:\n\u001b[0;32m--> 304\u001b[0m     dataset \u001b[38;5;241m=\u001b[39m \u001b[43mDatasetReader\u001b[49m\u001b[43m(\u001b[49m\u001b[43mpath\u001b[49m\u001b[43m,\u001b[49m\u001b[43m \u001b[49m\u001b[43mdriver\u001b[49m\u001b[38;5;241;43m=\u001b[39;49m\u001b[43mdriver\u001b[49m\u001b[43m,\u001b[49m\u001b[43m \u001b[49m\u001b[43msharing\u001b[49m\u001b[38;5;241;43m=\u001b[39;49m\u001b[43msharing\u001b[49m\u001b[43m,\u001b[49m\u001b[43m \u001b[49m\u001b[38;5;241;43m*\u001b[39;49m\u001b[38;5;241;43m*\u001b[39;49m\u001b[43mkwargs\u001b[49m\u001b[43m)\u001b[49m\n\u001b[1;32m    305\u001b[0m \u001b[38;5;28;01melif\u001b[39;00m mode \u001b[38;5;241m==\u001b[39m \u001b[38;5;124m\"\u001b[39m\u001b[38;5;124mr+\u001b[39m\u001b[38;5;124m\"\u001b[39m:\n\u001b[1;32m    306\u001b[0m     dataset \u001b[38;5;241m=\u001b[39m get_writer_for_path(path, driver\u001b[38;5;241m=\u001b[39mdriver)(\n\u001b[1;32m    307\u001b[0m         path, mode, driver\u001b[38;5;241m=\u001b[39mdriver, sharing\u001b[38;5;241m=\u001b[39msharing, \u001b[38;5;241m*\u001b[39m\u001b[38;5;241m*\u001b[39mkwargs\n\u001b[1;32m    308\u001b[0m     )\n",
      "File \u001b[0;32mrasterio/_base.pyx:310\u001b[0m, in \u001b[0;36mrasterio._base.DatasetBase.__init__\u001b[0;34m()\u001b[0m\n",
      "\u001b[0;31mRasterioIOError\u001b[0m: /Users/drc858/GitHub/watershed_tools/test_cases/tuolumne/radiation_doy/sw_DOY75.tif: No such file or directory"
     ]
    }
   ],
   "source": [
    "# read daily radiation over the period and calculate the period mean\n",
    "ndays_eff = len(np.arange(0,ndays+4,7))  # number of days that will be averaged at weekly frequency\n",
    "for i in np.arange(0,ndays+4,7):\n",
    "    DOY           = int(solrad_start_DOY) + i\n",
    "    sw_DOY_raster = os.path.join(srad_output_dir,'sw_DOY'+str(DOY)+'.tif')\n",
    "\n",
    "    # read DOY radiation \n",
    "    with rio.open(sw_DOY_raster) as ff:\n",
    "        sw         = ff.read(1)\n",
    "        mask       = ff.read_masks(1)\n",
    "        sw_ma      = np.ma.masked_array(sw, mask==0)\n",
    "        out_meta   = ff.meta.copy()\n",
    "        nodatavals = ff.nodatavals\n",
    "        \n",
    "    # create matching 2D array to sum up DOY radiation (creating the mean)\n",
    "    if i == 0:\n",
    "        sw_avg = sw_ma * 0\n",
    "    \n",
    "    # update value with prorated addition of each new day in period\n",
    "    sw_avg = sw_avg + (sw_ma/ndays_eff)\n",
    "\n",
    "# save to raster\n",
    "sw_avg_value = sw_avg.filled(fill_value=nodatavals)  # return a copy of self, with masked values filled with a given value.\n",
    "sw_avg_ma    = np.ma.masked_array(sw_avg_value, mask==0) # assign mask from sw_DOY\n",
    "sw_avg_ma    = sw_avg_ma.astype(sw_ma.dtype)           # change data type to sw_ma's.\n",
    "with rio.open(basin_radiation_raster, 'w', **out_meta) as outf:\n",
    "    outf.write(sw_avg_ma, 1)   "
   ]
  },
  {
   "cell_type": "code",
   "execution_count": null,
   "metadata": {},
   "outputs": [],
   "source": [
    "plot_path       = os.path.join(basin_data_path, 'plots')"
   ]
  },
  {
   "cell_type": "markdown",
   "metadata": {},
   "source": [
    "#### 3a. Check CDF of average daily radiation ####"
   ]
  },
  {
   "cell_type": "code",
   "execution_count": null,
   "metadata": {},
   "outputs": [],
   "source": [
    "# Choose how many bins you want here\n",
    "num_bins = 100\n",
    "\n",
    "# raw sw and its area-based cdf\n",
    "with rio.open(basin_radiation_raster) as ff:\n",
    "    sw   = ff.read(1)\n",
    "    mask = ff.read_masks(1)\n",
    "origin_counts, origin_bin_edges = np.histogram(sw[mask!=0], bins=num_bins)\n",
    "\n",
    "cum_counts  = np.cumsum(origin_counts)\n",
    "total_count = cum_counts[-1]\n",
    "origin_cdf  = cum_counts/float(total_count)\n",
    "\n",
    "# Plot comparatives cdf\n",
    "plt.clf()\n",
    "fig, ax = plt.subplots()\n",
    "ax.plot(origin_bin_edges[1:], origin_cdf, '-k', label='Average daily radiation')\n",
    "plt.xlabel(\"Radiation (W m$^{-2}$)\")\n",
    "plt.ylabel(\"CDF\")\n",
    "plt.legend(loc='best')\n",
    "plt.show()"
   ]
  },
  {
   "cell_type": "markdown",
   "metadata": {},
   "source": [
    "#### 3b. Check distribution of average daily radiation ###"
   ]
  },
  {
   "cell_type": "code",
   "execution_count": null,
   "metadata": {},
   "outputs": [],
   "source": [
    "plt.clf()\n",
    "def read_raster(file):   \n",
    "    with rio.open(file) as ff:\n",
    "        data  = ff.read(1)\n",
    "        mask  = ff.read_masks(1)\n",
    "    data_ma   = np.ma.masked_array(data, mask==0)\n",
    "    return data_ma\n",
    "\n",
    "def plot_locatable_axes(data, ax):\n",
    "    # reference: https://matplotlib.org/stable/gallery/axes_grid1/demo_axes_divider.html#sphx-glr-gallery-axes-grid1-demo-axes-divider-py\n",
    "    divider = make_axes_locatable(ax)\n",
    "    ax_cb   = divider.new_horizontal(size=\"5%\", pad=0.05)\n",
    "    fig     = ax.get_figure()\n",
    "    fig.add_axes(ax_cb)\n",
    "\n",
    "    im = ax.imshow(data)\n",
    "    plt.colorbar(im, cax=ax_cb)\n",
    "    ax_cb.yaxis.tick_right()\n",
    "\n",
    "plt.figure()\n",
    "f, ax = plt.subplots(1,2, figsize=(15,15)) \n",
    "\n",
    "asp_ma = read_raster(basin_aspect_raster)\n",
    "plot_locatable_axes(asp_ma, ax[0])\n",
    "ax[0].set_title('Aspect')\n",
    "\n",
    "sw_ma = read_raster(basin_radiation_raster)\n",
    "plot_locatable_axes(sw_ma, ax[1])\n",
    "ax[1].set_title('Radiation')\n",
    "\n",
    "plt.tight_layout()\n",
    "plt.show()"
   ]
  },
  {
   "cell_type": "code",
   "execution_count": null,
   "metadata": {},
   "outputs": [],
   "source": []
  }
 ],
 "metadata": {
  "kernelspec": {
   "display_name": "Python 3 (ipykernel)",
   "language": "python",
   "name": "python3"
  },
  "language_info": {
   "codemirror_mode": {
    "name": "ipython",
    "version": 3
   },
   "file_extension": ".py",
   "mimetype": "text/x-python",
   "name": "python",
   "nbconvert_exporter": "python",
   "pygments_lexer": "ipython3",
   "version": "3.9.16"
  }
 },
 "nbformat": 4,
 "nbformat_minor": 4
}
